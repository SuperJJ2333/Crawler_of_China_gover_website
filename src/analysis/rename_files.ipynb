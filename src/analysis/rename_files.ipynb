{
 "cells": [
  {
   "cell_type": "code",
   "id": "initial_id",
   "metadata": {
    "collapsed": true,
    "ExecuteTime": {
     "end_time": "2024-07-19T10:45:22.093833Z",
     "start_time": "2024-07-19T10:45:22.080341Z"
    }
   },
   "source": [
    "import os\n",
    "import re\n",
    "\n",
    "import pandas as pd\n",
    "\n",
    "province_dict = {\n",
    "    \"Anhui\": \"安徽省\",\n",
    "    \"Beijing\": \"北京市\",\n",
    "    \"Chongqin\": \"重庆市\",\n",
    "    \"Chongqing\": \"重庆市\",\n",
    "    \"Fujian\": \"福建省\",\n",
    "    \"Gansu\": \"甘肃省\",\n",
    "    \"Guangdong\": \"广东省\",\n",
    "    \"Guangxi\": \"广西壮族自治区\",\n",
    "    \"Guizhou\": \"贵州省\",\n",
    "    \"Neimenggu\": \"内蒙古自治区\",\n",
    "    \"Hainan\": \"海南省\",\n",
    "    \"Hebei\": \"河北省\",\n",
    "    \"Henan\": \"河南省\",\n",
    "    \"Heilongjiang\": \"黑龙江省\",\n",
    "    \"HeiLongJiang\": \"黑龙江省\",\n",
    "    \"Hubei\": \"湖北省\",\n",
    "    \"Hunan\": \"湖南省\",\n",
    "    \"Jiangsu\": \"江苏省\",\n",
    "    \"Jilin\": \"吉林省\",\n",
    "    \"Jiangxi\": \"江西省\",\n",
    "    \"Liaoning\": \"辽宁省\",\n",
    "    \"NeiMenggu\": \"内蒙古自治区\",\n",
    "    \"Ningxia\": \"宁夏回族自治区\",\n",
    "    \"Qinghai\": \"青海省\",\n",
    "    \"Shandong\": \"山东省\",\n",
    "    \"Shanghai\": \"上海市\",\n",
    "    \"Shannxi\": \"陕西省\",\n",
    "    \"Shanxi\": \"山西省\",\n",
    "    \"Sichuan\": \"四川省\",\n",
    "    \"Tianjing\": \"天津市\",\n",
    "    \"Tianjin\": \"天津市\",\n",
    "    \"Xinjiang\": \"新疆维吾尔自治区\",\n",
    "    \"Xizang\": \"西藏自治区\",\n",
    "    \"Yunnan\": \"云南省\",\n",
    "    \"Zhejiang\": \"浙江省\"\n",
    "}\n",
    "\n",
    "def rename_folders_in_directory(directory, province_dict):\n",
    "    try:\n",
    "        # 遍历目录中的所有项目\n",
    "        for item in os.listdir(directory):\n",
    "            item_path = os.path.join(directory, item)\n",
    "            # 检查项目是否为文件夹\n",
    "            if os.path.isdir(item_path):\n",
    "                # 获取文件夹的拼音名称\n",
    "                pinyin_name = item\n",
    "                # 根据拼音名称查找对应的官方名称\n",
    "                if pinyin_name in province_dict:\n",
    "                    official_name = province_dict[pinyin_name]\n",
    "                    new_item_path = os.path.join(directory, official_name)\n",
    "                    # 重命名文件夹\n",
    "                    os.rename(item_path, new_item_path)\n",
    "                    print(f\"Renamed '{item}' to '{official_name}'\")\n",
    "                else:\n",
    "                    print(f\"No mapping found for folder '{item}'\")\n",
    "    except Exception as e:\n",
    "        print(f\"An error occurred: {e}\")\n",
    "\n"
   ],
   "outputs": [],
   "execution_count": 10
  },
  {
   "metadata": {
    "ExecuteTime": {
     "end_time": "2024-07-19T10:45:22.140463Z",
     "start_time": "2024-07-19T10:45:22.095373Z"
    }
   },
   "cell_type": "code",
   "source": [
    "total_cities_path = r'E:\\pythonProject\\outsource\\Crawler_of_China_govern_website\\output\\Total_time_range_data'\n",
    "\n",
    "certain_cities_path = r'E:\\pythonProject\\outsource\\Crawler_of_China_govern_website\\output\\Certain_time_range_data'\n",
    "\n",
    "rename_folders_in_directory(certain_cities_path, province_dict)\n"
   ],
   "id": "902e42f84261c36e",
   "outputs": [
    {
     "name": "stdout",
     "output_type": "stream",
     "text": [
      "Renamed 'Anhui' to '安徽省'\n",
      "Renamed 'Fujian' to '福建省'\n",
      "Renamed 'Gansu' to '甘肃省'\n",
      "Renamed 'Guangdong' to '广东省'\n",
      "Renamed 'Guangxi' to '广西壮族自治区'\n",
      "Renamed 'Guizhou' to '贵州省'\n",
      "Renamed 'Hebei' to '河北省'\n",
      "Renamed 'Heilongjiang' to '黑龙江省'\n",
      "Renamed 'Henan' to '河南省'\n",
      "Renamed 'Hubei' to '湖北省'\n",
      "Renamed 'Hunan' to '湖南省'\n",
      "Renamed 'Jiangsu' to '江苏省'\n",
      "Renamed 'Jiangxi' to '江西省'\n",
      "Renamed 'Jilin' to '吉林省'\n",
      "Renamed 'Liaoning' to '辽宁省'\n",
      "Renamed 'Neimenggu' to '内蒙古自治区'\n",
      "Renamed 'Ningxia' to '宁夏回族自治区'\n",
      "Renamed 'Qinghai' to '青海省'\n",
      "Renamed 'Shandong' to '山东省'\n",
      "Renamed 'Shannxi' to '陕西省'\n",
      "Renamed 'Shanxi' to '山西省'\n",
      "Renamed 'Sichuan' to '四川省'\n",
      "Renamed 'Yunnan' to '云南省'\n",
      "Renamed 'Zhejiang' to '浙江省'\n"
     ]
    }
   ],
   "execution_count": 11
  },
  {
   "metadata": {
    "ExecuteTime": {
     "end_time": "2024-07-19T10:45:22.156458Z",
     "start_time": "2024-07-19T10:45:22.142412Z"
    }
   },
   "cell_type": "code",
   "source": "",
   "id": "ea68c1b10f8ca272",
   "outputs": [],
   "execution_count": 11
  }
 ],
 "metadata": {
  "kernelspec": {
   "display_name": "Python 3",
   "language": "python",
   "name": "python3"
  },
  "language_info": {
   "codemirror_mode": {
    "name": "ipython",
    "version": 2
   },
   "file_extension": ".py",
   "mimetype": "text/x-python",
   "name": "python",
   "nbconvert_exporter": "python",
   "pygments_lexer": "ipython2",
   "version": "2.7.6"
  }
 },
 "nbformat": 4,
 "nbformat_minor": 5
}
